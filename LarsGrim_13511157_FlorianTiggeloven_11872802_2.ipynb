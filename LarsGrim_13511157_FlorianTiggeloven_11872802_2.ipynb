{
 "cells": [
  {
   "cell_type": "markdown",
   "id": "ebe84fba",
   "metadata": {},
   "source": [
    "# Assignment 2 Stochastic Simulation\n",
    "Created on 15:13:12, 25-11-2021"
   ]
  },
  {
   "cell_type": "markdown",
   "id": "cda759b1",
   "metadata": {},
   "source": [
    "Florian Tiggeloven 11872802 & Lars Grim 113511157"
   ]
  },
  {
   "cell_type": "markdown",
   "id": "026aaadf",
   "metadata": {},
   "source": [
    "This programme is used for calculating the mean waiting time for different existant models of queueing theory "
   ]
  },
  {
   "cell_type": "markdown",
   "id": "ca7f62cb",
   "metadata": {},
   "source": [
    "## Imported Functions"
   ]
  },
  {
   "cell_type": "markdown",
   "id": "2722d858",
   "metadata": {},
   "source": [
    "Importing the necessary functions used in this program"
   ]
  },
  {
   "cell_type": "code",
   "execution_count": 1,
   "id": "00406ba0",
   "metadata": {},
   "outputs": [],
   "source": [
    "import numpy as np\n",
    "import random\n",
    "import simpy \n",
    "import os\n",
    "from scipy import stats\n",
    "import pandas as pd\n",
    "import matplotlib.pyplot as plt\n",
    "import csv\n",
    "import pandas as pd\n",
    "from datetime import datetime\n",
    "from datetime import date"
   ]
  },
  {
   "cell_type": "code",
   "execution_count": 4,
   "id": "acff6cc4",
   "metadata": {},
   "outputs": [],
   "source": [
    "class queue:\n",
    "    \"\"\"An object representing a queue\n",
    "     takes different values for different types of\n",
    "     queues and saves the data after simulation\"\"\"\n",
    "    def __init__(self, run_number, in_time, help_time, num_assistant, duration, prio, quest):\n",
    "        self.env = simpy.Environment()\n",
    "        self.in_time = in_time\n",
    "        self.help_time = help_time\n",
    "        self.run_number = run_number\n",
    "        self.duration = duration\n",
    "        self.assistant = simpy.PriorityResource(self.env, capacity = num_assistant)\n",
    "        self.num_assistant = num_assistant\n",
    "        self.queue_time_list = []\n",
    "        self.results_df = pd.DataFrame()\n",
    "        self.results_df[\"Caller_ID\"] = []\n",
    "        self.results_df[\"time_queuing\"] = []\n",
    "        self.results_df.set_index(\"Caller_ID\", inplace=True)\n",
    "        self.quest = quest\n",
    "        self.prio = prio\n",
    "    \n",
    "    def customer_generator(self):\n",
    "        \"\"\"\"Function generating a customer with customer number at \n",
    "        a random time based on the arrival time (in_time)\"\"\"\n",
    "        caller_id = 0\n",
    "        while True:\n",
    "            arr = self.arrival_generator(caller_id)  # get new caller\n",
    "\n",
    "            self.env.process(arr)  # get simpy environment with this caller\n",
    "\n",
    "            interarrival = random.expovariate(1.0/self.in_time) # randomly sample the time to next caller\n",
    "\n",
    "            yield self.env.timeout(interarrival)  # freeze function until time has elapsed\n",
    "            caller_id += 1\n",
    "\n",
    "\n",
    "    def arrival_generator(self, caller_id):\n",
    "        \"\"\"\"Function generating an arrival using the customer function  \n",
    "        with a random time needed to assist based on the service time (help_time)\"\"\"\n",
    "        s = np.random.uniform(0,1)\n",
    "        time_entered_queue = self.env.now\n",
    "        if self.quest == \"Longtail\" and s > 0.75:\n",
    "            prio = sample_help_time = round(random.expovariate(1.0/5.0),2)\n",
    "        elif self.quest == \"Determinant\":\n",
    "            prio = sample_help_time = self.help_time\n",
    "        else:\n",
    "            prio = sample_help_time = round(random.expovariate(1.0/self.help_time),2)\n",
    "        # request caller assistant\n",
    "        if self.prio == True:\n",
    "            with self.assistant.request(priority=prio) as req:\n",
    "                yield req\n",
    "\n",
    "                time_left_queue = self.env.now\n",
    "                #print(f\"Caller {caller_id} left queue at {round(time_left_queue,2)} minutes\")\n",
    "\n",
    "                time_in_queue = (time_left_queue - time_entered_queue)\n",
    "\n",
    "                df_to_add = pd.DataFrame({\"Caller_ID\":[caller_id], \"time_queuing\":[time_in_queue]})\n",
    "                df_to_add.set_index(\"Caller_ID\", inplace=True)\n",
    "                self.results_df = self.results_df.append(df_to_add)\n",
    "\n",
    "                yield self.env.timeout(sample_help_time)\n",
    "                self.queue_time_list.append(time_in_queue)\n",
    "\n",
    "        else:\n",
    "            with self.assistant.request() as req:\n",
    "                yield req\n",
    "\n",
    "                time_left_queue = self.env.now\n",
    "                #print(f\"Caller {caller_id} left queue at {round(time_left_queue,2)} minutes\")\n",
    "\n",
    "                time_in_queue = (time_left_queue - time_entered_queue)\n",
    "\n",
    "                df_to_add = pd.DataFrame({\"Caller_ID\":[caller_id], \"time_queuing\":[time_in_queue]})\n",
    "                df_to_add.set_index(\"Caller_ID\", inplace=True)\n",
    "                self.results_df = self.results_df.append(df_to_add)\n",
    "\n",
    "                yield self.env.timeout(sample_help_time)\n",
    "                self.queue_time_list.append(time_in_queue)\n",
    "\n",
    "\n",
    "\n",
    "    def meantime_queue(self):\n",
    "        \"Function that takes the mean of all queue times from the global list\"\n",
    "        self.meantime = self.results_df[\"time_queuing\"].mean()\n",
    "\n",
    "\n",
    "    def save_results_servers(self):\n",
    "        \"Function that saves the mean queue time data in a file\"\n",
    "        now = datetime.now()\n",
    "        today = date.today()\n",
    "        d1 = today.strftime(\"%d/%m/%Y\")\n",
    "        current_time = now.strftime(\"%H:%M:%S\")\n",
    "        with open(f\"Serverdata{self.prio}{self.quest}All.csv\", \"a\") as f:\n",
    "            writer = csv.writer(f, delimiter=\",\")\n",
    "            results_to_write = [self.num_assistant, self.run_number, self.meantime]\n",
    "            writer.writerow(results_to_write)\n",
    "    \n",
    "    def save_results_boxdep(self):\n",
    "        \"Function that saves the mean queue time data in a file specifically for the boxplot function\"\n",
    "        now = datetime.now()\n",
    "        today = date.today()\n",
    "        d1 = today.strftime(\"%d/%m/%Y\")\n",
    "        current_time = now.strftime(\"%H:%M:%S\")\n",
    "        with open(f\"Boxdata{self.prio}{self.quest}{self.num_assistant}.csv\", \"a\") as f:\n",
    "            writer = csv.writer(f, delimiter=\",\")\n",
    "            results_to_write = [self.num_assistant, self.run_number, self.meantime]\n",
    "            writer.writerow(results_to_write)\n",
    "\n",
    "    def run(self):\n",
    "        \"Function used to run the simpy process placed in the arrival function\"\n",
    "        self.env.process(self.customer_generator())\n",
    "\n",
    "        self.env.run(until=self.duration)\n",
    "\n",
    "        #print(self.results_df)\n",
    "\n"
   ]
  },
  {
   "cell_type": "markdown",
   "id": "6edad679",
   "metadata": {},
   "source": [
    "## Functions for generating data"
   ]
  },
  {
   "cell_type": "code",
   "execution_count": 5,
   "id": "c417fe9d",
   "metadata": {},
   "outputs": [],
   "source": [
    "def servergenerate(ptype,qtype):\n",
    "    \"Function defined to generate different types of data from the queue class\"\n",
    "    servers = [1,2,4]\n",
    "    for server in servers:\n",
    "        for run in range(1,total_runs):\n",
    "            #print(f\"n: {run}\")\n",
    "            current_model = queue(run, (lamda/server), mu, server, duration,ptype,f\"{qtype}\")\n",
    "            current_model.run()\n",
    "            current_model.meantime_queue()\n",
    "            current_model.save_results_servers()\n",
    "\n",
    "def bservergenerate(ptype,qtype):\n",
    "    \"Function defined to generate different types of data from the queue class\"\n",
    "    \"specifically for boxlotting\"\n",
    "    servers=[1,2,4]\n",
    "    for server in servers:\n",
    "        for run in range(1,total_runs+1):\n",
    "            current_model = queue(run, (lamda/server), mu, server, duration,ptype,f\"{qtype}\")\n",
    "            current_model.run()\n",
    "            current_model.meantime_queue()\n",
    "            current_model.save_results_boxdep()"
   ]
  },
  {
   "cell_type": "markdown",
   "id": "771f8ef1",
   "metadata": {},
   "source": [
    "## Functions for plotting data"
   ]
  },
  {
   "cell_type": "code",
   "execution_count": 6,
   "id": "8778b9c4",
   "metadata": {},
   "outputs": [],
   "source": [
    "def serverplot(ptype,qtype):\n",
    "    \"Function used for the plotting of the generated data\"\n",
    "    servertest = pd.read_csv(f'Serverdata{ptype}{qtype}All.csv',names=['Servers','Run_number','MeanTime'])\n",
    "    x,y,yerr=[],[],[]\n",
    "    N=np.array([1,2,4])\n",
    "    for i in N:\n",
    "        yerr.append(np.std(servertest[servertest[\"Servers\"]==i]['MeanTime']))\n",
    "        y.append(np.mean(servertest[servertest[\"Servers\"]==i]['MeanTime']))\n",
    "    x=N#np.arange(N)\n",
    "    xname = ['n=1','n=2','n=4']\n",
    "    y=np.array(y)\n",
    "    plt.plot(x,y)\n",
    "    plt.fill_between(x,(np.array(y)-np.array(yerr)),(np.array(y)+np.array(yerr)),alpha=0.25,label=f'{qtype}')\n",
    "    plt.xlabel('Servers')\n",
    "    plt.xticks(x,xname)\n",
    "    plt.ylabel('Mean Time waiting')\n",
    "\n",
    "\n",
    "def boxplot(ptype,qtype,N):\n",
    "    \"Function used for plotting of the generated boxplot data\"\n",
    "    servertest = pd.read_csv(f'Boxdata{ptype}{qtype}{N}.csv',names=['Servers','Run_number','MeanTime'])\n",
    "    x,y,yerr=[],[],[]\n",
    "    for i in range(N):\n",
    "        y.append((servertest['MeanTime']))\n",
    "    x=np.arange(N)\n",
    "    y=np.array(y)\n",
    "    return (y[~np.isnan(y)])"
   ]
  },
  {
   "cell_type": "code",
   "execution_count": null,
   "id": "496cdf1c",
   "metadata": {},
   "outputs": [],
   "source": [
    "# Cell used for generating the data that was used\n",
    "# This is placed in brackets to prevent new data from being created\n",
    "\n",
    "#     servergenerate(False,'Exponential')\n",
    "#     servergenerate(False,'Determinant')\n",
    "#     servergenerate(False,'Longtail')\n",
    "#     servergenerate(True,'Exponential')"
   ]
  },
  {
   "cell_type": "markdown",
   "id": "52beab49",
   "metadata": {},
   "source": [
    "## Plotting Cells"
   ]
  },
  {
   "cell_type": "code",
   "execution_count": 7,
   "id": "601a30f1",
   "metadata": {},
   "outputs": [
    {
     "name": "stdout",
     "output_type": "stream",
     "text": [
      "T-test between n=1 and n=2 yields a p-value of 0.4088465333194041\n",
      "T-test between n=1 and n=4 yields a p-value of 0.3514878869195718\n",
      "T-test between n=2 and n=4 yields a p-value of 0.0035139145671688834\n"
     ]
    },
    {
     "data": {
      "image/png": "[encoded data removed]",
      "text/plain": [
       "<Figure size 432x288 with 1 Axes>"
      ]
     },
     "metadata": {
      "needs_background": "light"
     },
     "output_type": "display_data"
    }
   ],
   "source": [
    "# Cell using the plotting functions to create the boxplot used in the paper\n",
    "fig,ax = plt.subplots()\n",
    "n1= boxplot('False','Exponential',1)\n",
    "n2= boxplot('False','Exponential',2)\n",
    "n4= boxplot('False','Exponential',4)\n",
    "plotdata =[n1,n2,n4]\n",
    "ax.boxplot(plotdata,labels=('n=1','n=2','n=4'))\n",
    "ax.set_ylabel('Mean Waiting Time')\n",
    "ax.set_title(\"Mean Waiting times for M/M/n Queue\")\n",
    "print('T-test between n=1 and n=2 yields a p-value of',stats.ttest_ind(n1,n2)[1])\n",
    "print('T-test between n=1 and n=4 yields a p-value of',stats.ttest_ind(n1,n4)[1])\n",
    "print('T-test between n=2 and n=4 yields a p-value of',stats.ttest_ind(n2,n4)[1])\n",
    "#plt.savefig('BoxplotN124.png')\n",
    "plt.show()"
   ]
  },
  {
   "cell_type": "code",
   "execution_count": 8,
   "id": "0adcc55a",
   "metadata": {},
   "outputs": [
    {
     "data": {
      "image/png": "[encoded data removed]",
      "text/plain": [
       "<Figure size 432x288 with 1 Axes>"
      ]
     },
     "metadata": {
      "needs_background": "light"
     },
     "output_type": "display_data"
    }
   ],
   "source": [
    "# Cell using the plotting functions to create the lineplot used in the paper\n",
    "fig,ax = plt.subplots()\n",
    "serverplot('False','Exponential')\n",
    "serverplot('False','Determinant')\n",
    "serverplot('False','Longtail')\n",
    "plt.title('Mean Waiting times for different queue styles')\n",
    "#plt.yticks(np.arange(0,30,5))\n",
    "plt.legend()\n",
    "#plt.savefig('AllQstylesNoP.png')\n",
    "plt.show()"
   ]
  },
  {
   "cell_type": "code",
   "execution_count": 9,
   "id": "18db0c95",
   "metadata": {
    "scrolled": true
   },
   "outputs": [
    {
     "data": {
      "image/png": "[encoded data removed]",
      "text/plain": [
       "<Figure size 432x288 with 1 Axes>"
      ]
     },
     "metadata": {
      "needs_background": "light"
     },
     "output_type": "display_data"
    }
   ],
   "source": [
    "# Cell using the plotting functions to create the lineplot of priority used in the paper\n",
    "fig,ax = plt.subplots()\n",
    "serverplot('True','ExponentialP')\n",
    "serverplot('False','ExponentialP')\n",
    "plt.title('Mean Waiting times for M/M/1')\n",
    "#plt.yticks(np.arange(0,30,5))\n",
    "plt.legend(['Priority On','Priority Off'])\n",
    "#plt.savefig('BothPstylesExp.png')\n",
    "plt.show()"
   ]
  },
  {
   "cell_type": "markdown",
   "id": "edb7e2cc",
   "metadata": {},
   "source": [
    "## Independant T-tests"
   ]
  },
  {
   "cell_type": "markdown",
   "id": "5b536194",
   "metadata": {},
   "source": [
    "In the cells below, p-values of the data were calculated using the scipy function"
   ]
  },
  {
   "cell_type": "code",
   "execution_count": 14,
   "id": "d06a88d4",
   "metadata": {},
   "outputs": [],
   "source": [
    "yE,yD,yL,Yp,Ynp =[],[],[],[],[]\n",
    "N=np.array([1,2,4])\n",
    "\n",
    "dataP = pd.read_csv(f'ServerdataFalseExponentialPAll.csv',names=['Servers','Run_number','MeanTime'])\n",
    "dataNP = pd.read_csv(f'ServerdataTrueExponentialPAll.csv',names=['Servers','Run_number','MeanTime'])\n",
    "\n",
    "Bdat1 = pd.read_csv(f'BoxdataFalseExponential1.csv',names=['Servers','Run_number','MeanTime'])\n",
    "Bdat2 = pd.read_csv(f'BoxdataFalseExponential2.csv',names=['Servers','Run_number','MeanTime'])\n",
    "Bdat4 = pd.read_csv(f'BoxdataFalseExponential4.csv',names=['Servers','Run_number','MeanTime'])\n",
    "\n",
    "b1 = Bdat1[\"MeanTime\"]\n",
    "b2 = Bdat2[\"MeanTime\"]\n",
    "b4 = Bdat4[\"MeanTime\"]\n",
    "\n",
    "dataE = pd.read_csv(f'ServerdataFalseExponentialAll.csv',names=['Servers','Run_number','MeanTime'])\n",
    "dataD = pd.read_csv(f'ServerdataFalseDeterminantAll.csv',names=['Servers','Run_number','MeanTime'])\n",
    "dataL = pd.read_csv(f'ServerdataFalseLongtailAll.csv',names=['Servers','Run_number','MeanTime'])\n",
    "\n",
    "\n",
    "\n",
    "for i in N:\n",
    "    yE.append(np.mean(dataE[dataE[\"Servers\"]==i]['MeanTime']))\n",
    "    yD.append(np.mean(dataD[dataD[\"Servers\"]==i]['MeanTime']))\n",
    "    yL.append(np.mean(dataL[dataL[\"Servers\"]==i]['MeanTime']))\n",
    "    Yp.append(np.mean(dataP[dataP[\"Servers\"]==i]['MeanTime']))\n",
    "    Ynp.append(np.mean(dataNP[dataNP[\"Servers\"]==i]['MeanTime']))\n",
    "\n",
    "yE = np.array(yE)[~np.isnan(yE)]\n",
    "yD = np.array(yD)[~np.isnan(yD)]\n",
    "yL = np.array(yL)[~np.isnan(yL)]\n",
    "Yp = np.array(Yp)[~np.isnan(Yp)]\n",
    "Ynp = np.array(Ynp)[~np.isnan(Ynp)]"
   ]
  },
  {
   "cell_type": "code",
   "execution_count": 15,
   "id": "8b90a546",
   "metadata": {},
   "outputs": [
    {
     "name": "stdout",
     "output_type": "stream",
     "text": [
      "T-test between priority and no priority for Exponential returned T-value= 7.790436813573685 p-value= 0.001464343805501727\n"
     ]
    }
   ],
   "source": [
    "print('T-test between priority and no priority for Exponential returned','T-value=',stats.ttest_ind(Yp,Ynp)[0],'p-value=',stats.ttest_ind(Yp,Ynp)[1])"
   ]
  },
  {
   "cell_type": "code",
   "execution_count": 16,
   "id": "95e09f03",
   "metadata": {},
   "outputs": [
    {
     "name": "stdout",
     "output_type": "stream",
     "text": [
      "T-test between n=1 and n=2 for Exponential returned T-value= -0.6780706740787339 p-value= 0.49805498356772593\n",
      "T-test between n=2 and n=4 for Exponential returned T-value= 1.685715629177408 p-value= 0.09250318942961432\n",
      "T-test between n=1 and n=4 for Exponential returned T-value= 0.5948056900044871 p-value= 0.552254812923382\n"
     ]
    }
   ],
   "source": [
    "print('T-test between n=1 and n=2 for Exponential returned','T-value=',stats.ttest_ind(b1,b2)[0],'p-value=',stats.ttest_ind(b1,b2)[1])\n",
    "print('T-test between n=2 and n=4 for Exponential returned','T-value=',stats.ttest_ind(b2,b4)[0],'p-value=',stats.ttest_ind(b2,b4)[1])\n",
    "print('T-test between n=1 and n=4 for Exponential returned','T-value=',stats.ttest_ind(b1,b4)[0],'p-value=',stats.ttest_ind(b1,b4)[1])"
   ]
  },
  {
   "cell_type": "code",
   "execution_count": 17,
   "id": "7cb08be0",
   "metadata": {},
   "outputs": [
    {
     "name": "stdout",
     "output_type": "stream",
     "text": [
      "T-test between Ex on and Det off yields T-value 0.5345291383922995 p-value 0.6213040948165619\n",
      "T-test between Det on and Longtail off yields T-value -0.8057134680981513 p-value 0.465577657570719\n",
      "T-test between Ex on and Longtail off yields of T-value -0.10039542941865054 p-value 0.924861121646996\n"
     ]
    }
   ],
   "source": [
    "print('T-test between Ex on and Det off yields','T-value',stats.ttest_ind(yE,yD)[0],'p-value',stats.ttest_ind(yE,yD)[1])\n",
    "print('T-test between Det on and Longtail off yields','T-value',stats.ttest_ind(yD,yL)[0],'p-value',stats.ttest_ind(yD,yL)[1])\n",
    "print('T-test between Ex on and Longtail off yields of','T-value',stats.ttest_ind(yE,yL)[0],'p-value',stats.ttest_ind(yE,yL)[1])"
   ]
  }
 ],
 "metadata": {
  "kernelspec": {
   "display_name": "Python 3",
   "language": "python",
   "name": "python3"
  },
  "language_info": {
   "codemirror_mode": {
    "name": "ipython",
    "version": 3
   },
   "file_extension": ".py",
   "mimetype": "text/x-python",
   "name": "python",
   "nbconvert_exporter": "python",
   "pygments_lexer": "ipython3",
   "version": "3.8.8"
  }
 },
 "nbformat": 4,
 "nbformat_minor": 5
}
